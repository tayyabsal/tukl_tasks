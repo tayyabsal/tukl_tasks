{
  "nbformat": 4,
  "nbformat_minor": 0,
  "metadata": {
    "colab": {
      "provenance": [],
      "gpuType": "T4"
    },
    "kernelspec": {
      "name": "python3",
      "display_name": "Python 3"
    },
    "language_info": {
      "name": "python"
    },
    "accelerator": "GPU"
  },
  "cells": [
    {
      "cell_type": "code",
      "execution_count": 1,
      "metadata": {
        "id": "xSVXhC9MYqkK"
      },
      "outputs": [],
      "source": [
        "from keras.datasets import mnist\n",
        "from keras.layers import Dense,Flatten\n",
        "from keras.layers import Conv2D,MaxPooling2D\n",
        "from keras.models import Sequential"
      ]
    },
    {
      "cell_type": "code",
      "source": [
        "(x_train,y_train),(x_test,y_test)=mnist.load_data()\n",
        "x_train.shape"
      ],
      "metadata": {
        "colab": {
          "base_uri": "https://localhost:8080/"
        },
        "id": "mJ6XVCyjY0S1",
        "outputId": "dddd9943-0bd2-4714-d6b1-cf826269781b"
      },
      "execution_count": 2,
      "outputs": [
        {
          "output_type": "stream",
          "name": "stdout",
          "text": [
            "Downloading data from https://storage.googleapis.com/tensorflow/tf-keras-datasets/mnist.npz\n",
            "11490434/11490434 [==============================] - 2s 0us/step\n"
          ]
        },
        {
          "output_type": "execute_result",
          "data": {
            "text/plain": [
              "(60000, 28, 28)"
            ]
          },
          "metadata": {},
          "execution_count": 2
        }
      ]
    },
    {
      "cell_type": "code",
      "source": [
        "import numpy as np\n",
        "import tensorflow as tf\n",
        "from tensorflow.keras.datasets import mnist\n",
        "from tensorflow.keras.utils import to_categorical\n",
        "from tensorflow.image import resize"
      ],
      "metadata": {
        "id": "CqT_3RizY1xD"
      },
      "execution_count": 3,
      "outputs": []
    },
    {
      "cell_type": "code",
      "source": [
        "# Normalize the images\n",
        "x_train = x_train.astype('float32') / 255.0\n",
        "x_test = x_test.astype('float32') / 255.0\n",
        "\n",
        "# Convert labels to one-hot encoding\n",
        "y_train = to_categorical(y_train, 10)\n",
        "y_test = to_categorical(y_test, 10)\n",
        "\n",
        "def image_generator(images, labels, batch_size):\n",
        "    while True:\n",
        "        for start in range(0, len(images), batch_size):\n",
        "            end = min(start + batch_size, len(images))\n",
        "            batch_images = images[start:end]\n",
        "            batch_labels = labels[start:end]\n",
        "            # Resize images and expand to 3 channels\n",
        "            batch_images_resized = np.array([resize(image.reshape(28, 28, 1), [224, 224]).numpy() for image in batch_images])\n",
        "            batch_images_resized = np.repeat(batch_images_resized, 3, axis=-1)\n",
        "            yield batch_images_resized, batch_labels\n",
        "\n",
        "# Define batch size\n",
        "batch_size = 32\n",
        "\n",
        "# Create generators\n",
        "train_gen = image_generator(x_train, y_train, batch_size)\n",
        "test_gen = image_generator(x_test, y_test, batch_size)"
      ],
      "metadata": {
        "id": "ddk_O2qyY3co"
      },
      "execution_count": 4,
      "outputs": []
    },
    {
      "cell_type": "code",
      "source": [
        "x_batch, y_batch = next(train_gen)\n",
        "\n",
        "print(f\"Batch images shape: {x_batch.shape}\")\n",
        "print(f\"Batch labels shape: {y_batch.shape}\")"
      ],
      "metadata": {
        "colab": {
          "base_uri": "https://localhost:8080/"
        },
        "id": "JDLlGiFEY6fa",
        "outputId": "989b704f-e3d1-4937-ad33-5318bf3e09b8"
      },
      "execution_count": 5,
      "outputs": [
        {
          "output_type": "stream",
          "name": "stdout",
          "text": [
            "Batch images shape: (32, 224, 224, 3)\n",
            "Batch labels shape: (32, 10)\n"
          ]
        }
      ]
    },
    {
      "cell_type": "code",
      "source": [
        "import tensorflow as tf\n",
        "from tensorflow.keras import layers, Model, Input\n",
        "from tensorflow.keras.layers import Conv2D, DepthwiseConv2D, BatchNormalization, ReLU, GlobalAveragePooling2D, Dense\n",
        "\n",
        "def depth_block(x, strides):\n",
        "    x = DepthwiseConv2D(3, strides=strides, padding='same', use_bias=False)(x)\n",
        "    x = BatchNormalization()(x)\n",
        "    x = ReLU()(x)\n",
        "    return x\n",
        "\n",
        "def single_conv_block(x, filters):\n",
        "    x = Conv2D(filters, 1, use_bias=False)(x)\n",
        "    x = BatchNormalization()(x)\n",
        "    x = ReLU()(x)\n",
        "    return x\n",
        "\n",
        "def combo_layer(x, filters, strides):\n",
        "    x = depth_block(x, strides)\n",
        "    x = single_conv_block(x, filters)\n",
        "    return x\n",
        "\n",
        "def MobileNet(input_shape=(224, 224, 3), n_classes=10):\n",
        "    input = Input(input_shape)\n",
        "    x = Conv2D(32, 3, strides=(2, 2), padding='same', use_bias=False)(input)\n",
        "    x = BatchNormalization()(x)\n",
        "    x = ReLU()(x)\n",
        "    x = combo_layer(x, 64, strides=(1, 1))\n",
        "    x = combo_layer(x, 128, strides=(2, 2))\n",
        "    x = combo_layer(x, 128, strides=(1, 1))\n",
        "    x = combo_layer(x, 256, strides=(2, 2))\n",
        "    x = combo_layer(x, 256, strides=(1, 1))\n",
        "    x = combo_layer(x, 512, strides=(2, 2))\n",
        "    for _ in range(5):\n",
        "        x = combo_layer(x, 512, strides=(1, 1))\n",
        "    x = combo_layer(x, 1024, strides=(2, 2))\n",
        "    x = combo_layer(x, 1024, strides=(1, 1))\n",
        "    x = GlobalAveragePooling2D()(x)\n",
        "    output = Dense(n_classes, activation='softmax')(x)\n",
        "    model = Model(input, output)\n",
        "    return model\n",
        "\n",
        "# Specify the input shape and number of classes\n",
        "input_shape = (224, 224, 3)\n",
        "n_classes = 10\n",
        "\n",
        "# Build the model\n",
        "model = MobileNet(input_shape, n_classes)\n",
        "\n",
        "# Print the model summary\n",
        "model.summary()"
      ],
      "metadata": {
        "colab": {
          "base_uri": "https://localhost:8080/"
        },
        "id": "uM2KiBVfY9QG",
        "outputId": "57ab42e4-93d4-4574-8ec3-9f023768c405"
      },
      "execution_count": 6,
      "outputs": [
        {
          "output_type": "stream",
          "name": "stdout",
          "text": [
            "Model: \"model\"\n",
            "_________________________________________________________________\n",
            " Layer (type)                Output Shape              Param #   \n",
            "=================================================================\n",
            " input_1 (InputLayer)        [(None, 224, 224, 3)]     0         \n",
            "                                                                 \n",
            " conv2d (Conv2D)             (None, 112, 112, 32)      864       \n",
            "                                                                 \n",
            " batch_normalization (Batch  (None, 112, 112, 32)      128       \n",
            " Normalization)                                                  \n",
            "                                                                 \n",
            " re_lu (ReLU)                (None, 112, 112, 32)      0         \n",
            "                                                                 \n",
            " depthwise_conv2d (Depthwis  (None, 112, 112, 32)      288       \n",
            " eConv2D)                                                        \n",
            "                                                                 \n",
            " batch_normalization_1 (Bat  (None, 112, 112, 32)      128       \n",
            " chNormalization)                                                \n",
            "                                                                 \n",
            " re_lu_1 (ReLU)              (None, 112, 112, 32)      0         \n",
            "                                                                 \n",
            " conv2d_1 (Conv2D)           (None, 112, 112, 64)      2048      \n",
            "                                                                 \n",
            " batch_normalization_2 (Bat  (None, 112, 112, 64)      256       \n",
            " chNormalization)                                                \n",
            "                                                                 \n",
            " re_lu_2 (ReLU)              (None, 112, 112, 64)      0         \n",
            "                                                                 \n",
            " depthwise_conv2d_1 (Depthw  (None, 56, 56, 64)        576       \n",
            " iseConv2D)                                                      \n",
            "                                                                 \n",
            " batch_normalization_3 (Bat  (None, 56, 56, 64)        256       \n",
            " chNormalization)                                                \n",
            "                                                                 \n",
            " re_lu_3 (ReLU)              (None, 56, 56, 64)        0         \n",
            "                                                                 \n",
            " conv2d_2 (Conv2D)           (None, 56, 56, 128)       8192      \n",
            "                                                                 \n",
            " batch_normalization_4 (Bat  (None, 56, 56, 128)       512       \n",
            " chNormalization)                                                \n",
            "                                                                 \n",
            " re_lu_4 (ReLU)              (None, 56, 56, 128)       0         \n",
            "                                                                 \n",
            " depthwise_conv2d_2 (Depthw  (None, 56, 56, 128)       1152      \n",
            " iseConv2D)                                                      \n",
            "                                                                 \n",
            " batch_normalization_5 (Bat  (None, 56, 56, 128)       512       \n",
            " chNormalization)                                                \n",
            "                                                                 \n",
            " re_lu_5 (ReLU)              (None, 56, 56, 128)       0         \n",
            "                                                                 \n",
            " conv2d_3 (Conv2D)           (None, 56, 56, 128)       16384     \n",
            "                                                                 \n",
            " batch_normalization_6 (Bat  (None, 56, 56, 128)       512       \n",
            " chNormalization)                                                \n",
            "                                                                 \n",
            " re_lu_6 (ReLU)              (None, 56, 56, 128)       0         \n",
            "                                                                 \n",
            " depthwise_conv2d_3 (Depthw  (None, 28, 28, 128)       1152      \n",
            " iseConv2D)                                                      \n",
            "                                                                 \n",
            " batch_normalization_7 (Bat  (None, 28, 28, 128)       512       \n",
            " chNormalization)                                                \n",
            "                                                                 \n",
            " re_lu_7 (ReLU)              (None, 28, 28, 128)       0         \n",
            "                                                                 \n",
            " conv2d_4 (Conv2D)           (None, 28, 28, 256)       32768     \n",
            "                                                                 \n",
            " batch_normalization_8 (Bat  (None, 28, 28, 256)       1024      \n",
            " chNormalization)                                                \n",
            "                                                                 \n",
            " re_lu_8 (ReLU)              (None, 28, 28, 256)       0         \n",
            "                                                                 \n",
            " depthwise_conv2d_4 (Depthw  (None, 28, 28, 256)       2304      \n",
            " iseConv2D)                                                      \n",
            "                                                                 \n",
            " batch_normalization_9 (Bat  (None, 28, 28, 256)       1024      \n",
            " chNormalization)                                                \n",
            "                                                                 \n",
            " re_lu_9 (ReLU)              (None, 28, 28, 256)       0         \n",
            "                                                                 \n",
            " conv2d_5 (Conv2D)           (None, 28, 28, 256)       65536     \n",
            "                                                                 \n",
            " batch_normalization_10 (Ba  (None, 28, 28, 256)       1024      \n",
            " tchNormalization)                                               \n",
            "                                                                 \n",
            " re_lu_10 (ReLU)             (None, 28, 28, 256)       0         \n",
            "                                                                 \n",
            " depthwise_conv2d_5 (Depthw  (None, 14, 14, 256)       2304      \n",
            " iseConv2D)                                                      \n",
            "                                                                 \n",
            " batch_normalization_11 (Ba  (None, 14, 14, 256)       1024      \n",
            " tchNormalization)                                               \n",
            "                                                                 \n",
            " re_lu_11 (ReLU)             (None, 14, 14, 256)       0         \n",
            "                                                                 \n",
            " conv2d_6 (Conv2D)           (None, 14, 14, 512)       131072    \n",
            "                                                                 \n",
            " batch_normalization_12 (Ba  (None, 14, 14, 512)       2048      \n",
            " tchNormalization)                                               \n",
            "                                                                 \n",
            " re_lu_12 (ReLU)             (None, 14, 14, 512)       0         \n",
            "                                                                 \n",
            " depthwise_conv2d_6 (Depthw  (None, 14, 14, 512)       4608      \n",
            " iseConv2D)                                                      \n",
            "                                                                 \n",
            " batch_normalization_13 (Ba  (None, 14, 14, 512)       2048      \n",
            " tchNormalization)                                               \n",
            "                                                                 \n",
            " re_lu_13 (ReLU)             (None, 14, 14, 512)       0         \n",
            "                                                                 \n",
            " conv2d_7 (Conv2D)           (None, 14, 14, 512)       262144    \n",
            "                                                                 \n",
            " batch_normalization_14 (Ba  (None, 14, 14, 512)       2048      \n",
            " tchNormalization)                                               \n",
            "                                                                 \n",
            " re_lu_14 (ReLU)             (None, 14, 14, 512)       0         \n",
            "                                                                 \n",
            " depthwise_conv2d_7 (Depthw  (None, 14, 14, 512)       4608      \n",
            " iseConv2D)                                                      \n",
            "                                                                 \n",
            " batch_normalization_15 (Ba  (None, 14, 14, 512)       2048      \n",
            " tchNormalization)                                               \n",
            "                                                                 \n",
            " re_lu_15 (ReLU)             (None, 14, 14, 512)       0         \n",
            "                                                                 \n",
            " conv2d_8 (Conv2D)           (None, 14, 14, 512)       262144    \n",
            "                                                                 \n",
            " batch_normalization_16 (Ba  (None, 14, 14, 512)       2048      \n",
            " tchNormalization)                                               \n",
            "                                                                 \n",
            " re_lu_16 (ReLU)             (None, 14, 14, 512)       0         \n",
            "                                                                 \n",
            " depthwise_conv2d_8 (Depthw  (None, 14, 14, 512)       4608      \n",
            " iseConv2D)                                                      \n",
            "                                                                 \n",
            " batch_normalization_17 (Ba  (None, 14, 14, 512)       2048      \n",
            " tchNormalization)                                               \n",
            "                                                                 \n",
            " re_lu_17 (ReLU)             (None, 14, 14, 512)       0         \n",
            "                                                                 \n",
            " conv2d_9 (Conv2D)           (None, 14, 14, 512)       262144    \n",
            "                                                                 \n",
            " batch_normalization_18 (Ba  (None, 14, 14, 512)       2048      \n",
            " tchNormalization)                                               \n",
            "                                                                 \n",
            " re_lu_18 (ReLU)             (None, 14, 14, 512)       0         \n",
            "                                                                 \n",
            " depthwise_conv2d_9 (Depthw  (None, 14, 14, 512)       4608      \n",
            " iseConv2D)                                                      \n",
            "                                                                 \n",
            " batch_normalization_19 (Ba  (None, 14, 14, 512)       2048      \n",
            " tchNormalization)                                               \n",
            "                                                                 \n",
            " re_lu_19 (ReLU)             (None, 14, 14, 512)       0         \n",
            "                                                                 \n",
            " conv2d_10 (Conv2D)          (None, 14, 14, 512)       262144    \n",
            "                                                                 \n",
            " batch_normalization_20 (Ba  (None, 14, 14, 512)       2048      \n",
            " tchNormalization)                                               \n",
            "                                                                 \n",
            " re_lu_20 (ReLU)             (None, 14, 14, 512)       0         \n",
            "                                                                 \n",
            " depthwise_conv2d_10 (Depth  (None, 14, 14, 512)       4608      \n",
            " wiseConv2D)                                                     \n",
            "                                                                 \n",
            " batch_normalization_21 (Ba  (None, 14, 14, 512)       2048      \n",
            " tchNormalization)                                               \n",
            "                                                                 \n",
            " re_lu_21 (ReLU)             (None, 14, 14, 512)       0         \n",
            "                                                                 \n",
            " conv2d_11 (Conv2D)          (None, 14, 14, 512)       262144    \n",
            "                                                                 \n",
            " batch_normalization_22 (Ba  (None, 14, 14, 512)       2048      \n",
            " tchNormalization)                                               \n",
            "                                                                 \n",
            " re_lu_22 (ReLU)             (None, 14, 14, 512)       0         \n",
            "                                                                 \n",
            " depthwise_conv2d_11 (Depth  (None, 7, 7, 512)         4608      \n",
            " wiseConv2D)                                                     \n",
            "                                                                 \n",
            " batch_normalization_23 (Ba  (None, 7, 7, 512)         2048      \n",
            " tchNormalization)                                               \n",
            "                                                                 \n",
            " re_lu_23 (ReLU)             (None, 7, 7, 512)         0         \n",
            "                                                                 \n",
            " conv2d_12 (Conv2D)          (None, 7, 7, 1024)        524288    \n",
            "                                                                 \n",
            " batch_normalization_24 (Ba  (None, 7, 7, 1024)        4096      \n",
            " tchNormalization)                                               \n",
            "                                                                 \n",
            " re_lu_24 (ReLU)             (None, 7, 7, 1024)        0         \n",
            "                                                                 \n",
            " depthwise_conv2d_12 (Depth  (None, 7, 7, 1024)        9216      \n",
            " wiseConv2D)                                                     \n",
            "                                                                 \n",
            " batch_normalization_25 (Ba  (None, 7, 7, 1024)        4096      \n",
            " tchNormalization)                                               \n",
            "                                                                 \n",
            " re_lu_25 (ReLU)             (None, 7, 7, 1024)        0         \n",
            "                                                                 \n",
            " conv2d_13 (Conv2D)          (None, 7, 7, 1024)        1048576   \n",
            "                                                                 \n",
            " batch_normalization_26 (Ba  (None, 7, 7, 1024)        4096      \n",
            " tchNormalization)                                               \n",
            "                                                                 \n",
            " re_lu_26 (ReLU)             (None, 7, 7, 1024)        0         \n",
            "                                                                 \n",
            " global_average_pooling2d (  (None, 1024)              0         \n",
            " GlobalAveragePooling2D)                                         \n",
            "                                                                 \n",
            " dense (Dense)               (None, 10)                10250     \n",
            "                                                                 \n",
            "=================================================================\n",
            "Total params: 3239114 (12.36 MB)\n",
            "Trainable params: 3217226 (12.27 MB)\n",
            "Non-trainable params: 21888 (85.50 KB)\n",
            "_________________________________________________________________\n"
          ]
        }
      ]
    },
    {
      "cell_type": "code",
      "source": [
        "import keras"
      ],
      "metadata": {
        "id": "lDp62ToxZykE"
      },
      "execution_count": 8,
      "outputs": []
    },
    {
      "cell_type": "code",
      "source": [
        "model.compile(loss=keras.metrics.categorical_crossentropy,optimizer=keras.optimizers.Adam(),metrics=['accuracy'])"
      ],
      "metadata": {
        "id": "VcL-r6h-Zoxi"
      },
      "execution_count": 9,
      "outputs": []
    },
    {
      "cell_type": "code",
      "source": [
        "model.fit(\n",
        "    train_gen,\n",
        "    steps_per_epoch=len(x_train) // batch_size,\n",
        "    epochs=10,\n",
        "    validation_data=test_gen,\n",
        "    validation_steps=len(x_test) // batch_size\n",
        ")"
      ],
      "metadata": {
        "colab": {
          "base_uri": "https://localhost:8080/"
        },
        "id": "cQWaZrReZr27",
        "outputId": "ba6acdaf-cc78-4ae2-a342-a5a532da28fa"
      },
      "execution_count": 10,
      "outputs": [
        {
          "output_type": "stream",
          "name": "stdout",
          "text": [
            "Epoch 1/10\n",
            "1875/1875 [==============================] - 342s 172ms/step - loss: 0.1276 - accuracy: 0.9596 - val_loss: 0.1008 - val_accuracy: 0.9710\n",
            "Epoch 2/10\n",
            "1875/1875 [==============================] - 323s 172ms/step - loss: 0.0497 - accuracy: 0.9845 - val_loss: 0.0481 - val_accuracy: 0.9849\n",
            "Epoch 3/10\n",
            "1875/1875 [==============================] - 307s 164ms/step - loss: 0.0401 - accuracy: 0.9875 - val_loss: 0.0477 - val_accuracy: 0.9870\n",
            "Epoch 4/10\n",
            "1875/1875 [==============================] - 316s 169ms/step - loss: 0.0324 - accuracy: 0.9896 - val_loss: 0.0294 - val_accuracy: 0.9904\n",
            "Epoch 5/10\n",
            "1875/1875 [==============================] - 316s 169ms/step - loss: 0.0260 - accuracy: 0.9918 - val_loss: 0.0262 - val_accuracy: 0.9922\n",
            "Epoch 6/10\n",
            "1875/1875 [==============================] - 299s 160ms/step - loss: 0.0227 - accuracy: 0.9928 - val_loss: 0.0437 - val_accuracy: 0.9855\n",
            "Epoch 7/10\n",
            "1875/1875 [==============================] - 308s 165ms/step - loss: 0.0190 - accuracy: 0.9941 - val_loss: 0.0255 - val_accuracy: 0.9929\n",
            "Epoch 8/10\n",
            "1875/1875 [==============================] - 309s 165ms/step - loss: 0.0145 - accuracy: 0.9953 - val_loss: 0.0323 - val_accuracy: 0.9908\n",
            "Epoch 9/10\n",
            "1875/1875 [==============================] - 300s 160ms/step - loss: 0.0153 - accuracy: 0.9951 - val_loss: 0.0250 - val_accuracy: 0.9929\n",
            "Epoch 10/10\n",
            "1875/1875 [==============================] - 307s 164ms/step - loss: 0.0126 - accuracy: 0.9957 - val_loss: 0.0233 - val_accuracy: 0.9936\n"
          ]
        },
        {
          "output_type": "execute_result",
          "data": {
            "text/plain": [
              "<keras.src.callbacks.History at 0x7ed7a6d7c340>"
            ]
          },
          "metadata": {},
          "execution_count": 10
        }
      ]
    },
    {
      "cell_type": "markdown",
      "source": [],
      "metadata": {
        "id": "p9tGjTbXqbcB"
      }
    },
    {
      "cell_type": "code",
      "source": [],
      "metadata": {
        "colab": {
          "base_uri": "https://localhost:8080/"
        },
        "id": "GdXJnDIzZ6vD",
        "outputId": "09323803-f08b-4991-acea-e47448e65b34"
      },
      "execution_count": null,
      "outputs": [
        {
          "output_type": "stream",
          "name": "stdout",
          "text": [
            "   1112/Unknown - 89s 80ms/step"
          ]
        }
      ]
    },
    {
      "cell_type": "code",
      "source": [],
      "metadata": {
        "colab": {
          "base_uri": "https://localhost:8080/",
          "height": 408
        },
        "id": "TxkZ5ghvqcgG",
        "outputId": "addba583-85b6-4884-851c-581bb5b284b7"
      },
      "execution_count": 12,
      "outputs": [
        {
          "output_type": "error",
          "ename": "InvalidArgumentError",
          "evalue": "Graph execution error:\n\nDetected at node model/conv2d/Conv2D-0-TransposeNHWCToNCHW-LayoutOptimizer defined at (most recent call last):\n<stack traces unavailable>\ntranspose expects a vector of size 3. But input(1) is a vector of size 4\n\t [[{{node model/conv2d/Conv2D-0-TransposeNHWCToNCHW-LayoutOptimizer}}]] [Op:__inference_test_function_4323771]",
          "traceback": [
            "\u001b[0;31m---------------------------------------------------------------------------\u001b[0m",
            "\u001b[0;31mInvalidArgumentError\u001b[0m                      Traceback (most recent call last)",
            "\u001b[0;32m<ipython-input-12-c7dd20d0851d>\u001b[0m in \u001b[0;36m<cell line: 1>\u001b[0;34m()\u001b[0m\n\u001b[0;32m----> 1\u001b[0;31m \u001b[0mscore\u001b[0m \u001b[0;34m=\u001b[0m \u001b[0mmodel\u001b[0m\u001b[0;34m.\u001b[0m\u001b[0mevaluate\u001b[0m\u001b[0;34m(\u001b[0m\u001b[0mx_test\u001b[0m\u001b[0;34m,\u001b[0m \u001b[0my_test\u001b[0m\u001b[0;34m)\u001b[0m\u001b[0;34m\u001b[0m\u001b[0;34m\u001b[0m\u001b[0m\n\u001b[0m\u001b[1;32m      2\u001b[0m \u001b[0maccuracy\u001b[0m \u001b[0;34m=\u001b[0m \u001b[0mscore\u001b[0m\u001b[0;34m[\u001b[0m\u001b[0;36m1\u001b[0m\u001b[0;34m]\u001b[0m  \u001b[0;31m# Assuming accuracy is the second metric (index 1) in the returned score\u001b[0m\u001b[0;34m\u001b[0m\u001b[0;34m\u001b[0m\u001b[0m\n\u001b[1;32m      3\u001b[0m \u001b[0mprint\u001b[0m\u001b[0;34m(\u001b[0m\u001b[0;34m\"Accuracy:\"\u001b[0m\u001b[0;34m,\u001b[0m \u001b[0maccuracy\u001b[0m\u001b[0;34m)\u001b[0m\u001b[0;34m\u001b[0m\u001b[0;34m\u001b[0m\u001b[0m\n",
            "\u001b[0;32m/usr/local/lib/python3.10/dist-packages/keras/src/utils/traceback_utils.py\u001b[0m in \u001b[0;36merror_handler\u001b[0;34m(*args, **kwargs)\u001b[0m\n\u001b[1;32m     68\u001b[0m             \u001b[0;31m# To get the full stack trace, call:\u001b[0m\u001b[0;34m\u001b[0m\u001b[0;34m\u001b[0m\u001b[0m\n\u001b[1;32m     69\u001b[0m             \u001b[0;31m# `tf.debugging.disable_traceback_filtering()`\u001b[0m\u001b[0;34m\u001b[0m\u001b[0;34m\u001b[0m\u001b[0m\n\u001b[0;32m---> 70\u001b[0;31m             \u001b[0;32mraise\u001b[0m \u001b[0me\u001b[0m\u001b[0;34m.\u001b[0m\u001b[0mwith_traceback\u001b[0m\u001b[0;34m(\u001b[0m\u001b[0mfiltered_tb\u001b[0m\u001b[0;34m)\u001b[0m \u001b[0;32mfrom\u001b[0m \u001b[0;32mNone\u001b[0m\u001b[0;34m\u001b[0m\u001b[0;34m\u001b[0m\u001b[0m\n\u001b[0m\u001b[1;32m     71\u001b[0m         \u001b[0;32mfinally\u001b[0m\u001b[0;34m:\u001b[0m\u001b[0;34m\u001b[0m\u001b[0;34m\u001b[0m\u001b[0m\n\u001b[1;32m     72\u001b[0m             \u001b[0;32mdel\u001b[0m \u001b[0mfiltered_tb\u001b[0m\u001b[0;34m\u001b[0m\u001b[0;34m\u001b[0m\u001b[0m\n",
            "\u001b[0;32m/usr/local/lib/python3.10/dist-packages/tensorflow/python/eager/execute.py\u001b[0m in \u001b[0;36mquick_execute\u001b[0;34m(op_name, num_outputs, inputs, attrs, ctx, name)\u001b[0m\n\u001b[1;32m     51\u001b[0m   \u001b[0;32mtry\u001b[0m\u001b[0;34m:\u001b[0m\u001b[0;34m\u001b[0m\u001b[0;34m\u001b[0m\u001b[0m\n\u001b[1;32m     52\u001b[0m     \u001b[0mctx\u001b[0m\u001b[0;34m.\u001b[0m\u001b[0mensure_initialized\u001b[0m\u001b[0;34m(\u001b[0m\u001b[0;34m)\u001b[0m\u001b[0;34m\u001b[0m\u001b[0;34m\u001b[0m\u001b[0m\n\u001b[0;32m---> 53\u001b[0;31m     tensors = pywrap_tfe.TFE_Py_Execute(ctx._handle, device_name, op_name,\n\u001b[0m\u001b[1;32m     54\u001b[0m                                         inputs, attrs, num_outputs)\n\u001b[1;32m     55\u001b[0m   \u001b[0;32mexcept\u001b[0m \u001b[0mcore\u001b[0m\u001b[0;34m.\u001b[0m\u001b[0m_NotOkStatusException\u001b[0m \u001b[0;32mas\u001b[0m \u001b[0me\u001b[0m\u001b[0;34m:\u001b[0m\u001b[0;34m\u001b[0m\u001b[0;34m\u001b[0m\u001b[0m\n",
            "\u001b[0;31mInvalidArgumentError\u001b[0m: Graph execution error:\n\nDetected at node model/conv2d/Conv2D-0-TransposeNHWCToNCHW-LayoutOptimizer defined at (most recent call last):\n<stack traces unavailable>\ntranspose expects a vector of size 3. But input(1) is a vector of size 4\n\t [[{{node model/conv2d/Conv2D-0-TransposeNHWCToNCHW-LayoutOptimizer}}]] [Op:__inference_test_function_4323771]"
          ]
        }
      ]
    },
    {
      "cell_type": "code",
      "source": [],
      "metadata": {
        "id": "YevxSgkDrPAC"
      },
      "execution_count": null,
      "outputs": []
    }
  ]
}